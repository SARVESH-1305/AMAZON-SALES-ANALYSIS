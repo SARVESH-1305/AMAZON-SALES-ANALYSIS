
{
 "cells": [
  {
   "cell_type": "markdown",
   "metadata": {},
   "source": [
    "# Amazon Sales Data Analysis\n",
    "## Key Metrics and Meaningful Relationships"
   ]
  },
  {
   "cell_type": "code",
   "execution_count": null,
   "metadata": {},
   "outputs": [],
   "source": [
    "# Import necessary libraries\n",
    "import pandas as pd\n",
    "import matplotlib.pyplot as plt\n",
    "import seaborn as sns\n",
    "\n",
    "# Load the dataset\n",
    "df = pd.read_csv('amazon_sales_data.csv')\n",
    "\n",
    "# Display the first few rows\n",
    "df.head()"
   ]
  },
  {
   "cell_type": "markdown",
   "metadata": {},
   "source": [
    "## Key Metrics Calculation"
   ]
  },
  {
   "cell_type": "code",
   "execution_count": null,
   "metadata": {},
   "outputs": [],
   "source": [
    "# Total Sales\n",
    "total_sales = df['Total Revenue'].sum()\n",
    "print(f'Total Sales: ${total_sales:,.2f}')\n",
    "\n",
    "# Average Order Value\n",
    "avg_order_value = df['Total Revenue'].sum() / df['Order ID'].nunique()\n",
    "print(f'Average Order Value: ${avg_order_value:,.2f}')\n",
    "\n",
    "# Most Profitable Products\n",
    "top_products = df.groupby('Item Type')['Total Profit'].sum().sort_values(ascending=False)\n",
    "print(top_products.head())"
   ]
  },
  {
   "cell_type": "markdown",
   "metadata": {},
   "source": [
    "## Correlation Analysis"
   ]
  },
  {
   "cell_type": "code",
   "execution_count": null,
   "metadata": {},
   "outputs": [],
   "source": [
    "# Correlation Heatmap\n",
    "plt.figure(figsize=(10,6))\n",
    "sns.heatmap(df[['Units Sold', 'Unit Price', 'Total Revenue', 'Total Profit']].corr(), annot=True, cmap='coolwarm')\n",
    "plt.title('Correlation Heatmap')\n",
    "plt.show()"
   ]
  },
  {
   "cell_type": "markdown",
   "metadata": {},
   "source": [
    "## Sales Trend Over Time"
   ]
  },
  {
   "cell_type": "code",
   "execution_count": null,
   "metadata": {},
   "outputs": [],
   "source": [
    "# Convert Order Date to datetime\n",
    "df['Order Date'] = pd.to_datetime(df['Order Date'])\n",
    "\n",
    "# Monthly Sales Trend\n",
    "df.set_index('Order Date', inplace=True)\n",
    "monthly_sales = df['Total Revenue'].resample('M').sum()\n",
    "\n",
    "# Plot\n",
    "plt.figure(figsize=(12,6))\n",
    "plt.plot(monthly_sales, marker='o', linestyle='-')\n",
    "plt.title('Monthly Sales Trend')\n",
    "plt.xlabel('Date')\n",
    "plt.ylabel('Total Revenue')\n",
    "plt.grid()\n",
    "plt.show()"
   ]
  }
 ],
 "metadata": {
  "kernelspec": {
   "display_name": "Python 3",
   "language": "python",
   "name": "python3"
  },
  "language_info": {
   "codemirror_mode": {
    "name": "ipython",
    "version": 3
   },
   "file_extension": ".py",
   "mimetype": "text/x-python",
   "name": "python",
   "nbconvert_exporter": "python",
   "pygments_lexer": "ipython3",
   "version": "3.8.10"
  }
 },
 "nbformat": 4,
 "nbformat_minor": 4
}
